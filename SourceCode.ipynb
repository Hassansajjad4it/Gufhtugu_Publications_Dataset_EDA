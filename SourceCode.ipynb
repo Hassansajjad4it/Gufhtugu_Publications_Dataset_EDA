{
 "cells": [
  {
   "cell_type": "markdown",
   "id": "403048df",
   "metadata": {},
   "source": [
    "# Data Loading"
   ]
  },
  {
   "cell_type": "code",
   "execution_count": 1,
   "id": "8dcc6437",
   "metadata": {},
   "outputs": [],
   "source": [
    "import pandas as pd"
   ]
  },
  {
   "cell_type": "code",
   "execution_count": 2,
   "id": "51343cde",
   "metadata": {},
   "outputs": [],
   "source": [
    "df = pd.read_csv('GP Orders - 2.csv',encoding='cp1252')"
   ]
  },
  {
   "cell_type": "code",
   "execution_count": 3,
   "id": "e4f543ff",
   "metadata": {},
   "outputs": [],
   "source": [
    "df2 = pd.read_csv('GP Orders - 4.csv',encoding='UTF-8')"
   ]
  },
  {
   "cell_type": "code",
   "execution_count": 4,
   "id": "bc2bc1a3",
   "metadata": {},
   "outputs": [],
   "source": [
    "df3 = pd.read_csv('GP Orders - 5.csv',encoding='UTF-8')"
   ]
  },
  {
   "cell_type": "code",
   "execution_count": 5,
   "id": "c8ee7740",
   "metadata": {},
   "outputs": [
    {
     "data": {
      "text/html": [
       "<div>\n",
       "<style scoped>\n",
       "    .dataframe tbody tr th:only-of-type {\n",
       "        vertical-align: middle;\n",
       "    }\n",
       "\n",
       "    .dataframe tbody tr th {\n",
       "        vertical-align: top;\n",
       "    }\n",
       "\n",
       "    .dataframe thead th {\n",
       "        text-align: right;\n",
       "    }\n",
       "</style>\n",
       "<table border=\"1\" class=\"dataframe\">\n",
       "  <thead>\n",
       "    <tr style=\"text-align: right;\">\n",
       "      <th></th>\n",
       "      <th>Order Number</th>\n",
       "      <th>Order Status</th>\n",
       "      <th>Book Name</th>\n",
       "      <th>Order Date</th>\n",
       "      <th>City (Billing)</th>\n",
       "    </tr>\n",
       "  </thead>\n",
       "  <tbody>\n",
       "    <tr>\n",
       "      <th>0</th>\n",
       "      <td>70978</td>\n",
       "      <td>Completed</td>\n",
       "      <td>Column Nigari Kese Sekhain</td>\n",
       "      <td>1/20/2021 17:43</td>\n",
       "      <td>Swat</td>\n",
       "    </tr>\n",
       "    <tr>\n",
       "      <th>1</th>\n",
       "      <td>70962</td>\n",
       "      <td>Completed</td>\n",
       "      <td>??????? ?? ???? ??????</td>\n",
       "      <td>1/20/2021 13:37</td>\n",
       "      <td>Karachi</td>\n",
       "    </tr>\n",
       "    <tr>\n",
       "      <th>2</th>\n",
       "      <td>70960</td>\n",
       "      <td>Completed</td>\n",
       "      <td>Justju ka safar-1/Waqfa e Pareshani</td>\n",
       "      <td>1/20/2021 10:48</td>\n",
       "      <td>Karachi</td>\n",
       "    </tr>\n",
       "    <tr>\n",
       "      <th>3</th>\n",
       "      <td>70959</td>\n",
       "      <td>Completed</td>\n",
       "      <td>R ka Taaruf</td>\n",
       "      <td>1/20/2021 10:32</td>\n",
       "      <td>Karachi</td>\n",
       "    </tr>\n",
       "    <tr>\n",
       "      <th>4</th>\n",
       "      <td>70958</td>\n",
       "      <td>Completed</td>\n",
       "      <td>??????? ?? ???? ??????</td>\n",
       "      <td>1/20/2021 10:29</td>\n",
       "      <td>Karachi</td>\n",
       "    </tr>\n",
       "  </tbody>\n",
       "</table>\n",
       "</div>"
      ],
      "text/plain": [
       "   Order Number Order Status                            Book Name  \\\n",
       "0         70978    Completed           Column Nigari Kese Sekhain   \n",
       "1         70962    Completed               ??????? ?? ???? ??????   \n",
       "2         70960    Completed  Justju ka safar-1/Waqfa e Pareshani   \n",
       "3         70959    Completed                          R ka Taaruf   \n",
       "4         70958    Completed               ??????? ?? ???? ??????   \n",
       "\n",
       "        Order Date City (Billing)  \n",
       "0  1/20/2021 17:43           Swat  \n",
       "1  1/20/2021 13:37        Karachi  \n",
       "2  1/20/2021 10:48        Karachi  \n",
       "3  1/20/2021 10:32        Karachi  \n",
       "4  1/20/2021 10:29        Karachi  "
      ]
     },
     "execution_count": 5,
     "metadata": {},
     "output_type": "execute_result"
    }
   ],
   "source": [
    "df.head()"
   ]
  },
  {
   "cell_type": "code",
   "execution_count": 6,
   "id": "34756d62",
   "metadata": {},
   "outputs": [
    {
     "data": {
      "text/html": [
       "<div>\n",
       "<style scoped>\n",
       "    .dataframe tbody tr th:only-of-type {\n",
       "        vertical-align: middle;\n",
       "    }\n",
       "\n",
       "    .dataframe tbody tr th {\n",
       "        vertical-align: top;\n",
       "    }\n",
       "\n",
       "    .dataframe thead th {\n",
       "        text-align: right;\n",
       "    }\n",
       "</style>\n",
       "<table border=\"1\" class=\"dataframe\">\n",
       "  <thead>\n",
       "    <tr style=\"text-align: right;\">\n",
       "      <th></th>\n",
       "      <th>Order Number</th>\n",
       "      <th>Order Status</th>\n",
       "      <th>Book Name</th>\n",
       "      <th>Order Date</th>\n",
       "      <th>City (Billing)</th>\n",
       "    </tr>\n",
       "  </thead>\n",
       "  <tbody>\n",
       "    <tr>\n",
       "      <th>0</th>\n",
       "      <td>70978</td>\n",
       "      <td>Completed</td>\n",
       "      <td>Column Nigari Kese Sekhain</td>\n",
       "      <td>1/20/2021 17:43</td>\n",
       "      <td>Swat</td>\n",
       "    </tr>\n",
       "    <tr>\n",
       "      <th>1</th>\n",
       "      <td>70962</td>\n",
       "      <td>Completed</td>\n",
       "      <td>انٹرنیٹ سے پیسہ کمائیں</td>\n",
       "      <td>1/20/2021 13:37</td>\n",
       "      <td>Karachi</td>\n",
       "    </tr>\n",
       "    <tr>\n",
       "      <th>2</th>\n",
       "      <td>70960</td>\n",
       "      <td>Completed</td>\n",
       "      <td>Justju ka safar-1/Waqfa e Pareshani</td>\n",
       "      <td>1/20/2021 10:48</td>\n",
       "      <td>Karachi</td>\n",
       "    </tr>\n",
       "    <tr>\n",
       "      <th>3</th>\n",
       "      <td>70959</td>\n",
       "      <td>Completed</td>\n",
       "      <td>R ka Taaruf</td>\n",
       "      <td>1/20/2021 10:32</td>\n",
       "      <td>Karachi</td>\n",
       "    </tr>\n",
       "    <tr>\n",
       "      <th>4</th>\n",
       "      <td>70958</td>\n",
       "      <td>Completed</td>\n",
       "      <td>انٹرنیٹ سے پیسہ کمائیں</td>\n",
       "      <td>1/20/2021 10:29</td>\n",
       "      <td>Karachi</td>\n",
       "    </tr>\n",
       "  </tbody>\n",
       "</table>\n",
       "</div>"
      ],
      "text/plain": [
       "   Order Number Order Status                            Book Name  \\\n",
       "0         70978    Completed           Column Nigari Kese Sekhain   \n",
       "1         70962    Completed               انٹرنیٹ سے پیسہ کمائیں   \n",
       "2         70960    Completed  Justju ka safar-1/Waqfa e Pareshani   \n",
       "3         70959    Completed                          R ka Taaruf   \n",
       "4         70958    Completed               انٹرنیٹ سے پیسہ کمائیں   \n",
       "\n",
       "        Order Date City (Billing)  \n",
       "0  1/20/2021 17:43           Swat  \n",
       "1  1/20/2021 13:37        Karachi  \n",
       "2  1/20/2021 10:48        Karachi  \n",
       "3  1/20/2021 10:32        Karachi  \n",
       "4  1/20/2021 10:29        Karachi  "
      ]
     },
     "execution_count": 6,
     "metadata": {},
     "output_type": "execute_result"
    }
   ],
   "source": [
    "df2.head()"
   ]
  },
  {
   "cell_type": "code",
   "execution_count": 7,
   "id": "30fd56e3",
   "metadata": {},
   "outputs": [
    {
     "data": {
      "text/html": [
       "<div>\n",
       "<style scoped>\n",
       "    .dataframe tbody tr th:only-of-type {\n",
       "        vertical-align: middle;\n",
       "    }\n",
       "\n",
       "    .dataframe tbody tr th {\n",
       "        vertical-align: top;\n",
       "    }\n",
       "\n",
       "    .dataframe thead th {\n",
       "        text-align: right;\n",
       "    }\n",
       "</style>\n",
       "<table border=\"1\" class=\"dataframe\">\n",
       "  <thead>\n",
       "    <tr style=\"text-align: right;\">\n",
       "      <th></th>\n",
       "      <th>Order Number</th>\n",
       "      <th>Order Status</th>\n",
       "      <th>Book Name</th>\n",
       "      <th>Order Date &amp; Time</th>\n",
       "      <th>City</th>\n",
       "      <th>Payment Method</th>\n",
       "      <th>Total items</th>\n",
       "      <th>Total weight (grams)</th>\n",
       "    </tr>\n",
       "  </thead>\n",
       "  <tbody>\n",
       "    <tr>\n",
       "      <th>0</th>\n",
       "      <td>307</td>\n",
       "      <td>Completed</td>\n",
       "      <td>Bitcoin Blockchain aur Crypto Currency - FREE ...</td>\n",
       "      <td>10/3/2019 15:03</td>\n",
       "      <td>faisalabad</td>\n",
       "      <td>NaN</td>\n",
       "      <td>2</td>\n",
       "      <td>200.0</td>\n",
       "    </tr>\n",
       "    <tr>\n",
       "      <th>1</th>\n",
       "      <td>308</td>\n",
       "      <td>Completed</td>\n",
       "      <td>Kaggle for Begginers</td>\n",
       "      <td>10/3/2019 15:54</td>\n",
       "      <td>Rawalpindi</td>\n",
       "      <td>Cash on Delivery (COD)</td>\n",
       "      <td>1</td>\n",
       "      <td>200.0</td>\n",
       "    </tr>\n",
       "    <tr>\n",
       "      <th>2</th>\n",
       "      <td>309</td>\n",
       "      <td>Completed</td>\n",
       "      <td>Kaggle for Begginers/Bitcoin Blockchain aur Cr...</td>\n",
       "      <td>10/3/2019 16:09</td>\n",
       "      <td>Hyderabad</td>\n",
       "      <td>Cash on Delivery (COD)</td>\n",
       "      <td>2</td>\n",
       "      <td>200.0</td>\n",
       "    </tr>\n",
       "    <tr>\n",
       "      <th>3</th>\n",
       "      <td>310</td>\n",
       "      <td>Cancelled</td>\n",
       "      <td>Kaggle for Begginers</td>\n",
       "      <td>10/3/2019 16:42</td>\n",
       "      <td>Rawalpindi</td>\n",
       "      <td>Cash on Delivery (COD)</td>\n",
       "      <td>1</td>\n",
       "      <td>200.0</td>\n",
       "    </tr>\n",
       "    <tr>\n",
       "      <th>4</th>\n",
       "      <td>311</td>\n",
       "      <td>Completed</td>\n",
       "      <td>Bit Coin Block Chain aur Crypto Currency بٹ کو...</td>\n",
       "      <td>10/3/2019 16:44</td>\n",
       "      <td>Karachi</td>\n",
       "      <td>Cash on Delivery (COD)</td>\n",
       "      <td>1</td>\n",
       "      <td>200.0</td>\n",
       "    </tr>\n",
       "  </tbody>\n",
       "</table>\n",
       "</div>"
      ],
      "text/plain": [
       "   Order Number Order Status  \\\n",
       "0           307    Completed   \n",
       "1           308    Completed   \n",
       "2           309    Completed   \n",
       "3           310    Cancelled   \n",
       "4           311    Completed   \n",
       "\n",
       "                                           Book Name Order Date & Time  \\\n",
       "0  Bitcoin Blockchain aur Crypto Currency - FREE ...   10/3/2019 15:03   \n",
       "1                               Kaggle for Begginers   10/3/2019 15:54   \n",
       "2  Kaggle for Begginers/Bitcoin Blockchain aur Cr...   10/3/2019 16:09   \n",
       "3                               Kaggle for Begginers   10/3/2019 16:42   \n",
       "4  Bit Coin Block Chain aur Crypto Currency بٹ کو...   10/3/2019 16:44   \n",
       "\n",
       "         City          Payment Method  Total items  Total weight (grams)  \n",
       "0  faisalabad                     NaN            2                 200.0  \n",
       "1  Rawalpindi  Cash on Delivery (COD)            1                 200.0  \n",
       "2   Hyderabad  Cash on Delivery (COD)            2                 200.0  \n",
       "3  Rawalpindi  Cash on Delivery (COD)            1                 200.0  \n",
       "4    Karachi   Cash on Delivery (COD)            1                 200.0  "
      ]
     },
     "execution_count": 7,
     "metadata": {},
     "output_type": "execute_result"
    }
   ],
   "source": [
    "df3.head()"
   ]
  },
  {
   "cell_type": "code",
   "execution_count": null,
   "id": "44e2ba58",
   "metadata": {},
   "outputs": [],
   "source": []
  },
  {
   "cell_type": "code",
   "execution_count": 8,
   "id": "603605c9",
   "metadata": {},
   "outputs": [],
   "source": [
    "# df.tail()"
   ]
  },
  {
   "cell_type": "code",
   "execution_count": 9,
   "id": "0545e275",
   "metadata": {},
   "outputs": [],
   "source": [
    "# df2.tail()"
   ]
  },
  {
   "cell_type": "code",
   "execution_count": 10,
   "id": "f53b9235",
   "metadata": {},
   "outputs": [],
   "source": [
    "# df3.tail()"
   ]
  },
  {
   "cell_type": "code",
   "execution_count": 53,
   "id": "1083be64",
   "metadata": {},
   "outputs": [
    {
     "name": "stdout",
     "output_type": "stream",
     "text": [
      "<class 'pandas.core.frame.DataFrame'>\n",
      "RangeIndex: 19187 entries, 0 to 19186\n",
      "Data columns (total 5 columns):\n",
      " #   Column          Non-Null Count  Dtype \n",
      "---  ------          --------------  ----- \n",
      " 0   Order Number    19187 non-null  int64 \n",
      " 1   Order Status    19187 non-null  object\n",
      " 2   Book Name       19185 non-null  object\n",
      " 3   Order Date      19187 non-null  object\n",
      " 4   City (Billing)  19186 non-null  object\n",
      "dtypes: int64(1), object(4)\n",
      "memory usage: 749.6+ KB\n"
     ]
    }
   ],
   "source": [
    "df.info()"
   ]
  },
  {
   "cell_type": "markdown",
   "id": "40657939",
   "metadata": {},
   "source": [
    "# Data Wrangling"
   ]
  },
  {
   "cell_type": "code",
   "execution_count": 12,
   "id": "4684338a",
   "metadata": {},
   "outputs": [
    {
     "data": {
      "text/html": [
       "<div>\n",
       "<style scoped>\n",
       "    .dataframe tbody tr th:only-of-type {\n",
       "        vertical-align: middle;\n",
       "    }\n",
       "\n",
       "    .dataframe tbody tr th {\n",
       "        vertical-align: top;\n",
       "    }\n",
       "\n",
       "    .dataframe thead th {\n",
       "        text-align: right;\n",
       "    }\n",
       "</style>\n",
       "<table border=\"1\" class=\"dataframe\">\n",
       "  <thead>\n",
       "    <tr style=\"text-align: right;\">\n",
       "      <th></th>\n",
       "      <th>Order Number</th>\n",
       "      <th>Order Status</th>\n",
       "      <th>Book Name</th>\n",
       "      <th>Order Date</th>\n",
       "      <th>City (Billing)</th>\n",
       "    </tr>\n",
       "  </thead>\n",
       "  <tbody>\n",
       "    <tr>\n",
       "      <th>0</th>\n",
       "      <td>70978</td>\n",
       "      <td>Completed</td>\n",
       "      <td>Column Nigari Kese Sekhain</td>\n",
       "      <td>1/20/2021 17:43</td>\n",
       "      <td>Swat</td>\n",
       "    </tr>\n",
       "    <tr>\n",
       "      <th>1</th>\n",
       "      <td>70962</td>\n",
       "      <td>Completed</td>\n",
       "      <td>??????? ?? ???? ??????</td>\n",
       "      <td>1/20/2021 13:37</td>\n",
       "      <td>Karachi</td>\n",
       "    </tr>\n",
       "    <tr>\n",
       "      <th>2</th>\n",
       "      <td>70960</td>\n",
       "      <td>Completed</td>\n",
       "      <td>Justju ka safar-1/Waqfa e Pareshani</td>\n",
       "      <td>1/20/2021 10:48</td>\n",
       "      <td>Karachi</td>\n",
       "    </tr>\n",
       "    <tr>\n",
       "      <th>3</th>\n",
       "      <td>70959</td>\n",
       "      <td>Completed</td>\n",
       "      <td>R ka Taaruf</td>\n",
       "      <td>1/20/2021 10:32</td>\n",
       "      <td>Karachi</td>\n",
       "    </tr>\n",
       "    <tr>\n",
       "      <th>4</th>\n",
       "      <td>70958</td>\n",
       "      <td>Completed</td>\n",
       "      <td>??????? ?? ???? ??????</td>\n",
       "      <td>1/20/2021 10:29</td>\n",
       "      <td>Karachi</td>\n",
       "    </tr>\n",
       "    <tr>\n",
       "      <th>...</th>\n",
       "      <td>...</td>\n",
       "      <td>...</td>\n",
       "      <td>...</td>\n",
       "      <td>...</td>\n",
       "      <td>...</td>\n",
       "    </tr>\n",
       "    <tr>\n",
       "      <th>38369</th>\n",
       "      <td>311</td>\n",
       "      <td>Completed</td>\n",
       "      <td>Bit Coin Block Chain aur Crypto Currency بٹ کو...</td>\n",
       "      <td>10/3/2019 16:44</td>\n",
       "      <td>Karachi</td>\n",
       "    </tr>\n",
       "    <tr>\n",
       "      <th>38370</th>\n",
       "      <td>310</td>\n",
       "      <td>Returned</td>\n",
       "      <td>Kaggle for Begginers</td>\n",
       "      <td>10/3/2019 16:42</td>\n",
       "      <td>Rawalpindi</td>\n",
       "    </tr>\n",
       "    <tr>\n",
       "      <th>38371</th>\n",
       "      <td>309</td>\n",
       "      <td>Completed</td>\n",
       "      <td>Kaggle for Begginers/Bitcoin Blockchain aur Cr...</td>\n",
       "      <td>10/3/2019 16:09</td>\n",
       "      <td>Hyderabad</td>\n",
       "    </tr>\n",
       "    <tr>\n",
       "      <th>38372</th>\n",
       "      <td>308</td>\n",
       "      <td>Completed</td>\n",
       "      <td>Kaggle for Begginers</td>\n",
       "      <td>10/3/2019 15:54</td>\n",
       "      <td>Rawalpindi</td>\n",
       "    </tr>\n",
       "    <tr>\n",
       "      <th>38373</th>\n",
       "      <td>307</td>\n",
       "      <td>Completed</td>\n",
       "      <td>Bitcoin Blockchain aur Crypto Currency - FREE ...</td>\n",
       "      <td>10/3/2019 15:03</td>\n",
       "      <td>faisalabad</td>\n",
       "    </tr>\n",
       "  </tbody>\n",
       "</table>\n",
       "<p>38374 rows × 5 columns</p>\n",
       "</div>"
      ],
      "text/plain": [
       "       Order Number Order Status  \\\n",
       "0             70978    Completed   \n",
       "1             70962    Completed   \n",
       "2             70960    Completed   \n",
       "3             70959    Completed   \n",
       "4             70958    Completed   \n",
       "...             ...          ...   \n",
       "38369           311    Completed   \n",
       "38370           310     Returned   \n",
       "38371           309    Completed   \n",
       "38372           308    Completed   \n",
       "38373           307    Completed   \n",
       "\n",
       "                                               Book Name       Order Date  \\\n",
       "0                             Column Nigari Kese Sekhain  1/20/2021 17:43   \n",
       "1                                 ??????? ?? ???? ??????  1/20/2021 13:37   \n",
       "2                    Justju ka safar-1/Waqfa e Pareshani  1/20/2021 10:48   \n",
       "3                                            R ka Taaruf  1/20/2021 10:32   \n",
       "4                                 ??????? ?? ???? ??????  1/20/2021 10:29   \n",
       "...                                                  ...              ...   \n",
       "38369  Bit Coin Block Chain aur Crypto Currency بٹ کو...  10/3/2019 16:44   \n",
       "38370                               Kaggle for Begginers  10/3/2019 16:42   \n",
       "38371  Kaggle for Begginers/Bitcoin Blockchain aur Cr...  10/3/2019 16:09   \n",
       "38372                               Kaggle for Begginers  10/3/2019 15:54   \n",
       "38373  Bitcoin Blockchain aur Crypto Currency - FREE ...  10/3/2019 15:03   \n",
       "\n",
       "      City (Billing)  \n",
       "0               Swat  \n",
       "1            Karachi  \n",
       "2            Karachi  \n",
       "3            Karachi  \n",
       "4            Karachi  \n",
       "...              ...  \n",
       "38369       Karachi   \n",
       "38370     Rawalpindi  \n",
       "38371      Hyderabad  \n",
       "38372     Rawalpindi  \n",
       "38373     faisalabad  \n",
       "\n",
       "[38374 rows x 5 columns]"
      ]
     },
     "execution_count": 12,
     "metadata": {},
     "output_type": "execute_result"
    }
   ],
   "source": [
    "result = df.append(df2,ignore_index=True)\n",
    "result"
   ]
  },
  {
   "cell_type": "code",
   "execution_count": 13,
   "id": "9ea13cbb",
   "metadata": {},
   "outputs": [
    {
     "data": {
      "text/plain": [
       "(38374, 5)"
      ]
     },
     "execution_count": 13,
     "metadata": {},
     "output_type": "execute_result"
    }
   ],
   "source": [
    "result.shape"
   ]
  },
  {
   "cell_type": "code",
   "execution_count": 14,
   "id": "244daad1",
   "metadata": {},
   "outputs": [
    {
     "data": {
      "text/plain": [
       "Order Number      0\n",
       "Order Status      0\n",
       "Book Name         4\n",
       "Order Date        0\n",
       "City (Billing)    2\n",
       "dtype: int64"
      ]
     },
     "execution_count": 14,
     "metadata": {},
     "output_type": "execute_result"
    }
   ],
   "source": [
    "result.isna().sum()"
   ]
  },
  {
   "cell_type": "code",
   "execution_count": 15,
   "id": "60abca06",
   "metadata": {},
   "outputs": [],
   "source": [
    "result.dropna(subset=['Book Name'], inplace= True)\n",
    "result.dropna(subset=['City (Billing)'], inplace= True)"
   ]
  },
  {
   "cell_type": "code",
   "execution_count": 16,
   "id": "ce758b0a",
   "metadata": {},
   "outputs": [
    {
     "data": {
      "text/plain": [
       "Order Number      0\n",
       "Order Status      0\n",
       "Book Name         0\n",
       "Order Date        0\n",
       "City (Billing)    0\n",
       "dtype: int64"
      ]
     },
     "execution_count": 16,
     "metadata": {},
     "output_type": "execute_result"
    }
   ],
   "source": [
    "result.isna().sum()"
   ]
  },
  {
   "cell_type": "code",
   "execution_count": 17,
   "id": "9b53a4a5",
   "metadata": {},
   "outputs": [
    {
     "data": {
      "text/html": [
       "<div>\n",
       "<style scoped>\n",
       "    .dataframe tbody tr th:only-of-type {\n",
       "        vertical-align: middle;\n",
       "    }\n",
       "\n",
       "    .dataframe tbody tr th {\n",
       "        vertical-align: top;\n",
       "    }\n",
       "\n",
       "    .dataframe thead th {\n",
       "        text-align: right;\n",
       "    }\n",
       "</style>\n",
       "<table border=\"1\" class=\"dataframe\">\n",
       "  <thead>\n",
       "    <tr style=\"text-align: right;\">\n",
       "      <th></th>\n",
       "      <th>Order Number</th>\n",
       "      <th>Order Status</th>\n",
       "      <th>Book Name</th>\n",
       "      <th>Order Date</th>\n",
       "      <th>City</th>\n",
       "    </tr>\n",
       "  </thead>\n",
       "  <tbody>\n",
       "    <tr>\n",
       "      <th>0</th>\n",
       "      <td>70978</td>\n",
       "      <td>Completed</td>\n",
       "      <td>Column Nigari Kese Sekhain</td>\n",
       "      <td>1/20/2021 17:43</td>\n",
       "      <td>Swat</td>\n",
       "    </tr>\n",
       "    <tr>\n",
       "      <th>1</th>\n",
       "      <td>70962</td>\n",
       "      <td>Completed</td>\n",
       "      <td>??????? ?? ???? ??????</td>\n",
       "      <td>1/20/2021 13:37</td>\n",
       "      <td>Karachi</td>\n",
       "    </tr>\n",
       "    <tr>\n",
       "      <th>2</th>\n",
       "      <td>70960</td>\n",
       "      <td>Completed</td>\n",
       "      <td>Justju ka safar-1/Waqfa e Pareshani</td>\n",
       "      <td>1/20/2021 10:48</td>\n",
       "      <td>Karachi</td>\n",
       "    </tr>\n",
       "    <tr>\n",
       "      <th>3</th>\n",
       "      <td>70959</td>\n",
       "      <td>Completed</td>\n",
       "      <td>R ka Taaruf</td>\n",
       "      <td>1/20/2021 10:32</td>\n",
       "      <td>Karachi</td>\n",
       "    </tr>\n",
       "    <tr>\n",
       "      <th>4</th>\n",
       "      <td>70958</td>\n",
       "      <td>Completed</td>\n",
       "      <td>??????? ?? ???? ??????</td>\n",
       "      <td>1/20/2021 10:29</td>\n",
       "      <td>Karachi</td>\n",
       "    </tr>\n",
       "    <tr>\n",
       "      <th>...</th>\n",
       "      <td>...</td>\n",
       "      <td>...</td>\n",
       "      <td>...</td>\n",
       "      <td>...</td>\n",
       "      <td>...</td>\n",
       "    </tr>\n",
       "    <tr>\n",
       "      <th>38369</th>\n",
       "      <td>311</td>\n",
       "      <td>Completed</td>\n",
       "      <td>Bit Coin Block Chain aur Crypto Currency بٹ کو...</td>\n",
       "      <td>10/3/2019 16:44</td>\n",
       "      <td>Karachi</td>\n",
       "    </tr>\n",
       "    <tr>\n",
       "      <th>38370</th>\n",
       "      <td>310</td>\n",
       "      <td>Returned</td>\n",
       "      <td>Kaggle for Begginers</td>\n",
       "      <td>10/3/2019 16:42</td>\n",
       "      <td>Rawalpindi</td>\n",
       "    </tr>\n",
       "    <tr>\n",
       "      <th>38371</th>\n",
       "      <td>309</td>\n",
       "      <td>Completed</td>\n",
       "      <td>Kaggle for Begginers/Bitcoin Blockchain aur Cr...</td>\n",
       "      <td>10/3/2019 16:09</td>\n",
       "      <td>Hyderabad</td>\n",
       "    </tr>\n",
       "    <tr>\n",
       "      <th>38372</th>\n",
       "      <td>308</td>\n",
       "      <td>Completed</td>\n",
       "      <td>Kaggle for Begginers</td>\n",
       "      <td>10/3/2019 15:54</td>\n",
       "      <td>Rawalpindi</td>\n",
       "    </tr>\n",
       "    <tr>\n",
       "      <th>38373</th>\n",
       "      <td>307</td>\n",
       "      <td>Completed</td>\n",
       "      <td>Bitcoin Blockchain aur Crypto Currency - FREE ...</td>\n",
       "      <td>10/3/2019 15:03</td>\n",
       "      <td>faisalabad</td>\n",
       "    </tr>\n",
       "  </tbody>\n",
       "</table>\n",
       "<p>38368 rows × 5 columns</p>\n",
       "</div>"
      ],
      "text/plain": [
       "       Order Number Order Status  \\\n",
       "0             70978    Completed   \n",
       "1             70962    Completed   \n",
       "2             70960    Completed   \n",
       "3             70959    Completed   \n",
       "4             70958    Completed   \n",
       "...             ...          ...   \n",
       "38369           311    Completed   \n",
       "38370           310     Returned   \n",
       "38371           309    Completed   \n",
       "38372           308    Completed   \n",
       "38373           307    Completed   \n",
       "\n",
       "                                               Book Name       Order Date  \\\n",
       "0                             Column Nigari Kese Sekhain  1/20/2021 17:43   \n",
       "1                                 ??????? ?? ???? ??????  1/20/2021 13:37   \n",
       "2                    Justju ka safar-1/Waqfa e Pareshani  1/20/2021 10:48   \n",
       "3                                            R ka Taaruf  1/20/2021 10:32   \n",
       "4                                 ??????? ?? ???? ??????  1/20/2021 10:29   \n",
       "...                                                  ...              ...   \n",
       "38369  Bit Coin Block Chain aur Crypto Currency بٹ کو...  10/3/2019 16:44   \n",
       "38370                               Kaggle for Begginers  10/3/2019 16:42   \n",
       "38371  Kaggle for Begginers/Bitcoin Blockchain aur Cr...  10/3/2019 16:09   \n",
       "38372                               Kaggle for Begginers  10/3/2019 15:54   \n",
       "38373  Bitcoin Blockchain aur Crypto Currency - FREE ...  10/3/2019 15:03   \n",
       "\n",
       "             City  \n",
       "0            Swat  \n",
       "1         Karachi  \n",
       "2         Karachi  \n",
       "3         Karachi  \n",
       "4         Karachi  \n",
       "...           ...  \n",
       "38369    Karachi   \n",
       "38370  Rawalpindi  \n",
       "38371   Hyderabad  \n",
       "38372  Rawalpindi  \n",
       "38373  faisalabad  \n",
       "\n",
       "[38368 rows x 5 columns]"
      ]
     },
     "execution_count": 17,
     "metadata": {},
     "output_type": "execute_result"
    }
   ],
   "source": [
    "rename = result.rename(columns={'City (Billing)':'City'})\n",
    "rename"
   ]
  },
  {
   "cell_type": "code",
   "execution_count": 18,
   "id": "c0e3705a",
   "metadata": {},
   "outputs": [
    {
     "data": {
      "text/plain": [
       "Order Number    0\n",
       "Order Status    0\n",
       "Book Name       0\n",
       "Order Date      0\n",
       "City            0\n",
       "dtype: int64"
      ]
     },
     "execution_count": 18,
     "metadata": {},
     "output_type": "execute_result"
    }
   ],
   "source": [
    "rename.isna().sum()"
   ]
  },
  {
   "cell_type": "code",
   "execution_count": 19,
   "id": "01db38d4",
   "metadata": {},
   "outputs": [],
   "source": [
    "# rename.dropna(subset=['City'], inplace= True)"
   ]
  },
  {
   "cell_type": "code",
   "execution_count": 20,
   "id": "babec0ef",
   "metadata": {},
   "outputs": [
    {
     "data": {
      "text/plain": [
       "Order Number    0\n",
       "Order Status    0\n",
       "Book Name       0\n",
       "Order Date      0\n",
       "City            0\n",
       "dtype: int64"
      ]
     },
     "execution_count": 20,
     "metadata": {},
     "output_type": "execute_result"
    }
   ],
   "source": [
    "rename.isna().sum()\n"
   ]
  },
  {
   "cell_type": "code",
   "execution_count": 21,
   "id": "7b2beda7",
   "metadata": {},
   "outputs": [
    {
     "data": {
      "text/html": [
       "<div>\n",
       "<style scoped>\n",
       "    .dataframe tbody tr th:only-of-type {\n",
       "        vertical-align: middle;\n",
       "    }\n",
       "\n",
       "    .dataframe tbody tr th {\n",
       "        vertical-align: top;\n",
       "    }\n",
       "\n",
       "    .dataframe thead th {\n",
       "        text-align: right;\n",
       "    }\n",
       "</style>\n",
       "<table border=\"1\" class=\"dataframe\">\n",
       "  <thead>\n",
       "    <tr style=\"text-align: right;\">\n",
       "      <th></th>\n",
       "      <th>Order Number</th>\n",
       "      <th>Order Status</th>\n",
       "      <th>Book Name</th>\n",
       "      <th>Order Date</th>\n",
       "      <th>City</th>\n",
       "      <th>Order Date &amp; Time</th>\n",
       "      <th>Payment Method</th>\n",
       "      <th>Total items</th>\n",
       "      <th>Total weight (grams)</th>\n",
       "    </tr>\n",
       "  </thead>\n",
       "  <tbody>\n",
       "    <tr>\n",
       "      <th>0</th>\n",
       "      <td>70978</td>\n",
       "      <td>Completed</td>\n",
       "      <td>Column Nigari Kese Sekhain</td>\n",
       "      <td>1/20/2021 17:43</td>\n",
       "      <td>Swat</td>\n",
       "      <td>NaN</td>\n",
       "      <td>NaN</td>\n",
       "      <td>NaN</td>\n",
       "      <td>NaN</td>\n",
       "    </tr>\n",
       "    <tr>\n",
       "      <th>1</th>\n",
       "      <td>70962</td>\n",
       "      <td>Completed</td>\n",
       "      <td>??????? ?? ???? ??????</td>\n",
       "      <td>1/20/2021 13:37</td>\n",
       "      <td>Karachi</td>\n",
       "      <td>NaN</td>\n",
       "      <td>NaN</td>\n",
       "      <td>NaN</td>\n",
       "      <td>NaN</td>\n",
       "    </tr>\n",
       "    <tr>\n",
       "      <th>2</th>\n",
       "      <td>70960</td>\n",
       "      <td>Completed</td>\n",
       "      <td>Justju ka safar-1/Waqfa e Pareshani</td>\n",
       "      <td>1/20/2021 10:48</td>\n",
       "      <td>Karachi</td>\n",
       "      <td>NaN</td>\n",
       "      <td>NaN</td>\n",
       "      <td>NaN</td>\n",
       "      <td>NaN</td>\n",
       "    </tr>\n",
       "    <tr>\n",
       "      <th>3</th>\n",
       "      <td>70959</td>\n",
       "      <td>Completed</td>\n",
       "      <td>R ka Taaruf</td>\n",
       "      <td>1/20/2021 10:32</td>\n",
       "      <td>Karachi</td>\n",
       "      <td>NaN</td>\n",
       "      <td>NaN</td>\n",
       "      <td>NaN</td>\n",
       "      <td>NaN</td>\n",
       "    </tr>\n",
       "    <tr>\n",
       "      <th>4</th>\n",
       "      <td>70958</td>\n",
       "      <td>Completed</td>\n",
       "      <td>??????? ?? ???? ??????</td>\n",
       "      <td>1/20/2021 10:29</td>\n",
       "      <td>Karachi</td>\n",
       "      <td>NaN</td>\n",
       "      <td>NaN</td>\n",
       "      <td>NaN</td>\n",
       "      <td>NaN</td>\n",
       "    </tr>\n",
       "    <tr>\n",
       "      <th>...</th>\n",
       "      <td>...</td>\n",
       "      <td>...</td>\n",
       "      <td>...</td>\n",
       "      <td>...</td>\n",
       "      <td>...</td>\n",
       "      <td>...</td>\n",
       "      <td>...</td>\n",
       "      <td>...</td>\n",
       "      <td>...</td>\n",
       "    </tr>\n",
       "    <tr>\n",
       "      <th>57602</th>\n",
       "      <td>71332</td>\n",
       "      <td>Completed</td>\n",
       "      <td>Linux - An Introduction</td>\n",
       "      <td>NaN</td>\n",
       "      <td>Lahore</td>\n",
       "      <td>1/25/2021 12:46</td>\n",
       "      <td>Cash on delivery</td>\n",
       "      <td>1.0</td>\n",
       "      <td>200.0</td>\n",
       "    </tr>\n",
       "    <tr>\n",
       "      <th>57603</th>\n",
       "      <td>71394</td>\n",
       "      <td>Completed</td>\n",
       "      <td>R ka Taaruf/ڈیٹا سائنس/Python Programming/Kagg...</td>\n",
       "      <td>NaN</td>\n",
       "      <td>Lahore</td>\n",
       "      <td>1/25/2021 14:06</td>\n",
       "      <td>Cash on delivery</td>\n",
       "      <td>4.0</td>\n",
       "      <td>200.0</td>\n",
       "    </tr>\n",
       "    <tr>\n",
       "      <th>57604</th>\n",
       "      <td>71418</td>\n",
       "      <td>Completed</td>\n",
       "      <td>Blockchain, Cryptocurrency And Bitcoin/Column ...</td>\n",
       "      <td>NaN</td>\n",
       "      <td>Larkana</td>\n",
       "      <td>1/25/2021 16:37</td>\n",
       "      <td>Cash on delivery</td>\n",
       "      <td>2.0</td>\n",
       "      <td>500.0</td>\n",
       "    </tr>\n",
       "    <tr>\n",
       "      <th>57605</th>\n",
       "      <td>71419</td>\n",
       "      <td>Completed</td>\n",
       "      <td>مشین لرننگ/ڈیٹا سائنس/Artificial Intelligence/...</td>\n",
       "      <td>NaN</td>\n",
       "      <td>Mailsi, district Vehari</td>\n",
       "      <td>1/25/2021 18:01</td>\n",
       "      <td>Cash on delivery</td>\n",
       "      <td>10.0</td>\n",
       "      <td>400.0</td>\n",
       "    </tr>\n",
       "    <tr>\n",
       "      <th>57606</th>\n",
       "      <td>71420</td>\n",
       "      <td>Completed</td>\n",
       "      <td>Linux - An Introduction/Python Programming/Kag...</td>\n",
       "      <td>NaN</td>\n",
       "      <td>Lahore</td>\n",
       "      <td>1/25/2021 20:47</td>\n",
       "      <td>Cash on delivery</td>\n",
       "      <td>7.0</td>\n",
       "      <td>400.0</td>\n",
       "    </tr>\n",
       "  </tbody>\n",
       "</table>\n",
       "<p>57607 rows × 9 columns</p>\n",
       "</div>"
      ],
      "text/plain": [
       "       Order Number Order Status  \\\n",
       "0             70978    Completed   \n",
       "1             70962    Completed   \n",
       "2             70960    Completed   \n",
       "3             70959    Completed   \n",
       "4             70958    Completed   \n",
       "...             ...          ...   \n",
       "57602         71332    Completed   \n",
       "57603         71394    Completed   \n",
       "57604         71418    Completed   \n",
       "57605         71419    Completed   \n",
       "57606         71420    Completed   \n",
       "\n",
       "                                               Book Name       Order Date  \\\n",
       "0                             Column Nigari Kese Sekhain  1/20/2021 17:43   \n",
       "1                                 ??????? ?? ???? ??????  1/20/2021 13:37   \n",
       "2                    Justju ka safar-1/Waqfa e Pareshani  1/20/2021 10:48   \n",
       "3                                            R ka Taaruf  1/20/2021 10:32   \n",
       "4                                 ??????? ?? ???? ??????  1/20/2021 10:29   \n",
       "...                                                  ...              ...   \n",
       "57602                            Linux - An Introduction              NaN   \n",
       "57603  R ka Taaruf/ڈیٹا سائنس/Python Programming/Kagg...              NaN   \n",
       "57604  Blockchain, Cryptocurrency And Bitcoin/Column ...              NaN   \n",
       "57605  مشین لرننگ/ڈیٹا سائنس/Artificial Intelligence/...              NaN   \n",
       "57606  Linux - An Introduction/Python Programming/Kag...              NaN   \n",
       "\n",
       "                          City Order Date & Time    Payment Method  \\\n",
       "0                         Swat               NaN               NaN   \n",
       "1                      Karachi               NaN               NaN   \n",
       "2                      Karachi               NaN               NaN   \n",
       "3                      Karachi               NaN               NaN   \n",
       "4                      Karachi               NaN               NaN   \n",
       "...                        ...               ...               ...   \n",
       "57602                   Lahore   1/25/2021 12:46  Cash on delivery   \n",
       "57603                   Lahore   1/25/2021 14:06  Cash on delivery   \n",
       "57604                  Larkana   1/25/2021 16:37  Cash on delivery   \n",
       "57605  Mailsi, district Vehari   1/25/2021 18:01  Cash on delivery   \n",
       "57606                   Lahore   1/25/2021 20:47  Cash on delivery   \n",
       "\n",
       "       Total items  Total weight (grams)  \n",
       "0              NaN                   NaN  \n",
       "1              NaN                   NaN  \n",
       "2              NaN                   NaN  \n",
       "3              NaN                   NaN  \n",
       "4              NaN                   NaN  \n",
       "...            ...                   ...  \n",
       "57602          1.0                 200.0  \n",
       "57603          4.0                 200.0  \n",
       "57604          2.0                 500.0  \n",
       "57605         10.0                 400.0  \n",
       "57606          7.0                 400.0  \n",
       "\n",
       "[57607 rows x 9 columns]"
      ]
     },
     "execution_count": 21,
     "metadata": {},
     "output_type": "execute_result"
    }
   ],
   "source": [
    "all_data = rename.append(df3,ignore_index=True)\n",
    "table_csv=all_data.to_csv('table.csv')\n",
    "Table=pd.read_csv('table.csv')\n",
    "Table\n",
    "all_data"
   ]
  },
  {
   "cell_type": "markdown",
   "id": "2d0d863b",
   "metadata": {},
   "source": [
    "# Data Analysis"
   ]
  },
  {
   "cell_type": "code",
   "execution_count": 22,
   "id": "fff357ce",
   "metadata": {},
   "outputs": [],
   "source": [
    "# Time series graph"
   ]
  },
  {
   "cell_type": "code",
   "execution_count": 23,
   "id": "43382ac9",
   "metadata": {},
   "outputs": [],
   "source": [
    "# all_data.dropna(subset=['Order Date'], inplace= True)\n",
    "# all_data.dropna(subset=['Order Date & Time'], inplace= True)\n",
    "# all_data.dropna(subset=['Total items'], inplace= True)\n",
    "# all_data.dropna(subset=['Total weight (grams)'], inplace= True)"
   ]
  },
  {
   "cell_type": "code",
   "execution_count": 24,
   "id": "ca4c6781",
   "metadata": {},
   "outputs": [],
   "source": [
    "# len(df[\"Book Name\"].unique())"
   ]
  },
  {
   "cell_type": "code",
   "execution_count": 25,
   "id": "0924ed51",
   "metadata": {},
   "outputs": [
    {
     "data": {
      "text/html": [
       "<div>\n",
       "<style scoped>\n",
       "    .dataframe tbody tr th:only-of-type {\n",
       "        vertical-align: middle;\n",
       "    }\n",
       "\n",
       "    .dataframe tbody tr th {\n",
       "        vertical-align: top;\n",
       "    }\n",
       "\n",
       "    .dataframe thead th {\n",
       "        text-align: right;\n",
       "    }\n",
       "</style>\n",
       "<table border=\"1\" class=\"dataframe\">\n",
       "  <thead>\n",
       "    <tr style=\"text-align: right;\">\n",
       "      <th></th>\n",
       "      <th>Unnamed: 0</th>\n",
       "      <th>Order Number</th>\n",
       "      <th>Order Status</th>\n",
       "      <th>Book Name</th>\n",
       "      <th>Order Date</th>\n",
       "      <th>City</th>\n",
       "      <th>Order Date &amp; Time</th>\n",
       "      <th>Payment Method</th>\n",
       "      <th>Total items</th>\n",
       "      <th>Total weight (grams)</th>\n",
       "    </tr>\n",
       "  </thead>\n",
       "  <tbody>\n",
       "    <tr>\n",
       "      <th>0</th>\n",
       "      <td>0</td>\n",
       "      <td>70978</td>\n",
       "      <td>Completed</td>\n",
       "      <td>Column Nigari Kese Sekhain</td>\n",
       "      <td>1/20/2021 17:43</td>\n",
       "      <td>Swat</td>\n",
       "      <td>NaN</td>\n",
       "      <td>NaN</td>\n",
       "      <td>NaN</td>\n",
       "      <td>NaN</td>\n",
       "    </tr>\n",
       "    <tr>\n",
       "      <th>21</th>\n",
       "      <td>2</td>\n",
       "      <td>70960</td>\n",
       "      <td>Completed</td>\n",
       "      <td>Justju ka safar-1</td>\n",
       "      <td>1/20/2021 10:48</td>\n",
       "      <td>Karachi</td>\n",
       "      <td>NaN</td>\n",
       "      <td>NaN</td>\n",
       "      <td>NaN</td>\n",
       "      <td>NaN</td>\n",
       "    </tr>\n",
       "    <tr>\n",
       "      <th>22</th>\n",
       "      <td>2</td>\n",
       "      <td>70960</td>\n",
       "      <td>Completed</td>\n",
       "      <td>Waqfa e Pareshani</td>\n",
       "      <td>1/20/2021 10:48</td>\n",
       "      <td>Karachi</td>\n",
       "      <td>NaN</td>\n",
       "      <td>NaN</td>\n",
       "      <td>NaN</td>\n",
       "      <td>NaN</td>\n",
       "    </tr>\n",
       "    <tr>\n",
       "      <th>23</th>\n",
       "      <td>3</td>\n",
       "      <td>70959</td>\n",
       "      <td>Completed</td>\n",
       "      <td>R ka Taaruf</td>\n",
       "      <td>1/20/2021 10:32</td>\n",
       "      <td>Karachi</td>\n",
       "      <td>NaN</td>\n",
       "      <td>NaN</td>\n",
       "      <td>NaN</td>\n",
       "      <td>NaN</td>\n",
       "    </tr>\n",
       "    <tr>\n",
       "      <th>44</th>\n",
       "      <td>5</td>\n",
       "      <td>70957</td>\n",
       "      <td>Completed</td>\n",
       "      <td>Blockchain, Cryptocurrency And Bitcoin</td>\n",
       "      <td>1/20/2021 10:24</td>\n",
       "      <td>Karachi</td>\n",
       "      <td>NaN</td>\n",
       "      <td>NaN</td>\n",
       "      <td>NaN</td>\n",
       "      <td>NaN</td>\n",
       "    </tr>\n",
       "    <tr>\n",
       "      <th>...</th>\n",
       "      <td>...</td>\n",
       "      <td>...</td>\n",
       "      <td>...</td>\n",
       "      <td>...</td>\n",
       "      <td>...</td>\n",
       "      <td>...</td>\n",
       "      <td>...</td>\n",
       "      <td>...</td>\n",
       "      <td>...</td>\n",
       "      <td>...</td>\n",
       "    </tr>\n",
       "    <tr>\n",
       "      <th>232667</th>\n",
       "      <td>57606</td>\n",
       "      <td>71420</td>\n",
       "      <td>Completed</td>\n",
       "      <td>Kaggle for Begginers</td>\n",
       "      <td>NaN</td>\n",
       "      <td>Lahore</td>\n",
       "      <td>1/25/2021 20:47</td>\n",
       "      <td>Cash on delivery</td>\n",
       "      <td>7.0</td>\n",
       "      <td>400.0</td>\n",
       "    </tr>\n",
       "    <tr>\n",
       "      <th>232668</th>\n",
       "      <td>57606</td>\n",
       "      <td>71420</td>\n",
       "      <td>Completed</td>\n",
       "      <td>Artificial Intelligence</td>\n",
       "      <td>NaN</td>\n",
       "      <td>Lahore</td>\n",
       "      <td>1/25/2021 20:47</td>\n",
       "      <td>Cash on delivery</td>\n",
       "      <td>7.0</td>\n",
       "      <td>400.0</td>\n",
       "    </tr>\n",
       "    <tr>\n",
       "      <th>232669</th>\n",
       "      <td>57606</td>\n",
       "      <td>71420</td>\n",
       "      <td>Completed</td>\n",
       "      <td>ایک تھا الگورتھم</td>\n",
       "      <td>NaN</td>\n",
       "      <td>Lahore</td>\n",
       "      <td>1/25/2021 20:47</td>\n",
       "      <td>Cash on delivery</td>\n",
       "      <td>7.0</td>\n",
       "      <td>400.0</td>\n",
       "    </tr>\n",
       "    <tr>\n",
       "      <th>232670</th>\n",
       "      <td>57606</td>\n",
       "      <td>71420</td>\n",
       "      <td>Completed</td>\n",
       "      <td>R ka Taaruf</td>\n",
       "      <td>NaN</td>\n",
       "      <td>Lahore</td>\n",
       "      <td>1/25/2021 20:47</td>\n",
       "      <td>Cash on delivery</td>\n",
       "      <td>7.0</td>\n",
       "      <td>400.0</td>\n",
       "    </tr>\n",
       "    <tr>\n",
       "      <th>232671</th>\n",
       "      <td>57606</td>\n",
       "      <td>71420</td>\n",
       "      <td>Completed</td>\n",
       "      <td>مشین لرننگ</td>\n",
       "      <td>NaN</td>\n",
       "      <td>Lahore</td>\n",
       "      <td>1/25/2021 20:47</td>\n",
       "      <td>Cash on delivery</td>\n",
       "      <td>7.0</td>\n",
       "      <td>400.0</td>\n",
       "    </tr>\n",
       "  </tbody>\n",
       "</table>\n",
       "<p>97718 rows × 10 columns</p>\n",
       "</div>"
      ],
      "text/plain": [
       "        Unnamed: 0  Order Number Order Status  \\\n",
       "0                0         70978    Completed   \n",
       "21               2         70960    Completed   \n",
       "22               2         70960    Completed   \n",
       "23               3         70959    Completed   \n",
       "44               5         70957    Completed   \n",
       "...            ...           ...          ...   \n",
       "232667       57606         71420    Completed   \n",
       "232668       57606         71420    Completed   \n",
       "232669       57606         71420    Completed   \n",
       "232670       57606         71420    Completed   \n",
       "232671       57606         71420    Completed   \n",
       "\n",
       "                                     Book Name       Order Date     City  \\\n",
       "0                   Column Nigari Kese Sekhain  1/20/2021 17:43     Swat   \n",
       "21                           Justju ka safar-1  1/20/2021 10:48  Karachi   \n",
       "22                           Waqfa e Pareshani  1/20/2021 10:48  Karachi   \n",
       "23                                 R ka Taaruf  1/20/2021 10:32  Karachi   \n",
       "44      Blockchain, Cryptocurrency And Bitcoin  1/20/2021 10:24  Karachi   \n",
       "...                                        ...              ...      ...   \n",
       "232667                    Kaggle for Begginers              NaN   Lahore   \n",
       "232668                 Artificial Intelligence              NaN   Lahore   \n",
       "232669                        ایک تھا الگورتھم              NaN   Lahore   \n",
       "232670                             R ka Taaruf              NaN   Lahore   \n",
       "232671                              مشین لرننگ              NaN   Lahore   \n",
       "\n",
       "       Order Date & Time    Payment Method  Total items  Total weight (grams)  \n",
       "0                    NaN               NaN          NaN                   NaN  \n",
       "21                   NaN               NaN          NaN                   NaN  \n",
       "22                   NaN               NaN          NaN                   NaN  \n",
       "23                   NaN               NaN          NaN                   NaN  \n",
       "44                   NaN               NaN          NaN                   NaN  \n",
       "...                  ...               ...          ...                   ...  \n",
       "232667   1/25/2021 20:47  Cash on delivery          7.0                 400.0  \n",
       "232668   1/25/2021 20:47  Cash on delivery          7.0                 400.0  \n",
       "232669   1/25/2021 20:47  Cash on delivery          7.0                 400.0  \n",
       "232670   1/25/2021 20:47  Cash on delivery          7.0                 400.0  \n",
       "232671   1/25/2021 20:47  Cash on delivery          7.0                 400.0  \n",
       "\n",
       "[97718 rows x 10 columns]"
      ]
     },
     "execution_count": 25,
     "metadata": {},
     "output_type": "execute_result"
    }
   ],
   "source": [
    "# Data Munging of Book Name Column\n",
    "import numpy as np\n",
    "Table['Book Name']=Table['Book Name'].str.split(\"/\")\n",
    "Table=Table.explode(\"Book Name\",ignore_index=True)\n",
    "Table['Book Name']=Table['Book Name'].str.split(\"- \")\n",
    "Table=Table.explode(\"Book Name\",ignore_index=True)\n",
    "Table['Book Name']=Table['Book Name'].str.split(\"?\")\n",
    "Table=Table.explode(\"Book Name\",ignore_index=True)\n",
    "Table= Table.replace(to_replace=r\"^\\s*$\", value=np.NAN, regex=True)\n",
    "Table=Table.replace(to_replace=r\"^[!(-. \\d]*$\", value=np.NAN, regex=True)\n",
    "Table= Table.replace(to_replace=r\"^Release Date$\", value=np.NAN, regex=True)\n",
    "Table=Table.dropna(subset=[\"Book Name\"])\n",
    "Table"
   ]
  },
  {
   "cell_type": "code",
   "execution_count": 26,
   "id": "aa2d8819",
   "metadata": {},
   "outputs": [],
   "source": [
    "# Data Munging of City Column\n",
    "Table['City']=Table['City'].str.split(\"?\")\n",
    "Table=Table.explode('City',ignore_index=True)\n",
    "Table=Table.replace(to_replace=\"^[? ]*$\",value=np.NAN,regex=True)\n",
    "changename={\n",
    "    \"karachi\":\"Karachi\",\n",
    "    \"KARACHI\":\"Karachi\",\n",
    "    \"lahore\":\"Lahore\",\n",
    "    \"LAHORE\":\"Lahore\",\n",
    "    \"Mailsi, district\":\"Vehari\",\n",
    "    \"Clifton / Karachi\":\"Karachi\",\n",
    "    \"tehsil Bhalwal District \":\"Sargodha\",\n",
    "    \" faisalabad\":\" Faisalabad\",\n",
    "    \" جھنگ\":\"Jhang\",\n",
    "    \" Wah Cantt, Taxila, Rawalpindi\":\"Rawalpindi\",\n",
    "    \"Jauharabad , Distt Khushab\":\"Khushab\",\n",
    "    \" Midel town lahore\":\"Lahore\",\n",
    "    \"Gagoo Mandi tehsil Burewala district vehari\":\"Vehari\",\n",
    "    \" Mustufa Town, Wahdat Road, Lahore.\":\"Lahore\",\n",
    "    \" Rahim Yar Khan\":\"Rahim yar Khan\",\n",
    "    \"islamabad\":\"Islamabad\",\n",
    "    \"Agrics Town, Raiwand Road Lahore\":\"Lahore\",\n",
    "    \"Kallar Syedan dist Rawalpindi\":\"Rawalpindi\",\n",
    "    \" Lahore, Pakistan\":\" Lahore\",\n",
    "    \"Ahmed pur sial Jhang\":\"Jhang\",\n",
    "    \" Lyari, Karachi\":\"Karachi\",\n",
    "    \" Rawal pindi\":\" Rawalpindi\",\n",
    "    \" Academy Town, peshawar\":\"Peshawar\",\n",
    "    \" Peshawar Gulbahar no.1\":\" Peshawar\",\n",
    "    \"North Nazimabad Karachi\":\"Karachi\",\n",
    "    \" Khurrianwla faisalabad\":\"Faisalabad\",\n",
    "    \"Ali town adyala road rawalpindi.\":\"Rawalpindi\",\n",
    "    \" North Karachi\":\"Karachi\",\n",
    "    \"Khi\":\"Karachi\",\n",
    "    \"لاہور\":\"Lahore\",\n",
    "    \" Madina town, Faisalabad\":\"Faisalabad\",\n",
    "    \"Ahmed pur sial Jhang\":\"Jhang\",\n",
    "    \"multan\":\"Multan\",\n",
    "    \"مانسہرہ\":\"Mansehra\",\n",
    "    \" mansehra\":\"Mansehra\",\n",
    "    \"Rawalpindi cant\":\"Rawalpindi\"\n",
    "    \n",
    "}\n",
    "Table['City']=Table['City'].replace(changename)"
   ]
  },
  {
   "cell_type": "markdown",
   "id": "580be5b3",
   "metadata": {},
   "source": [
    "# Top 10 Books sells"
   ]
  },
  {
   "cell_type": "code",
   "execution_count": 27,
   "id": "399f4fea",
   "metadata": {},
   "outputs": [
    {
     "data": {
      "text/html": [
       "<div>\n",
       "<style scoped>\n",
       "    .dataframe tbody tr th:only-of-type {\n",
       "        vertical-align: middle;\n",
       "    }\n",
       "\n",
       "    .dataframe tbody tr th {\n",
       "        vertical-align: top;\n",
       "    }\n",
       "\n",
       "    .dataframe thead th {\n",
       "        text-align: right;\n",
       "    }\n",
       "</style>\n",
       "<table border=\"1\" class=\"dataframe\">\n",
       "  <thead>\n",
       "    <tr style=\"text-align: right;\">\n",
       "      <th></th>\n",
       "      <th>Book Name</th>\n",
       "      <th>count</th>\n",
       "    </tr>\n",
       "  </thead>\n",
       "  <tbody>\n",
       "    <tr>\n",
       "      <th>1161</th>\n",
       "      <td>Python Programming</td>\n",
       "      <td>8519</td>\n",
       "    </tr>\n",
       "    <tr>\n",
       "      <th>1691</th>\n",
       "      <td>انٹرنیٹ سے پیسہ کمائیں</td>\n",
       "      <td>7577</td>\n",
       "    </tr>\n",
       "    <tr>\n",
       "      <th>207</th>\n",
       "      <td>Artificial Intelligence</td>\n",
       "      <td>6641</td>\n",
       "    </tr>\n",
       "    <tr>\n",
       "      <th>337</th>\n",
       "      <td>Blockchain, Cryptocurrency And Bitcoin</td>\n",
       "      <td>6052</td>\n",
       "    </tr>\n",
       "    <tr>\n",
       "      <th>1155</th>\n",
       "      <td>Product Management</td>\n",
       "      <td>4965</td>\n",
       "    </tr>\n",
       "    <tr>\n",
       "      <th>813</th>\n",
       "      <td>Justju ka safar-1</td>\n",
       "      <td>4915</td>\n",
       "    </tr>\n",
       "    <tr>\n",
       "      <th>1371</th>\n",
       "      <td>Sukkur To Florida</td>\n",
       "      <td>2153</td>\n",
       "    </tr>\n",
       "    <tr>\n",
       "      <th>1007</th>\n",
       "      <td>Molo Masali</td>\n",
       "      <td>2137</td>\n",
       "    </tr>\n",
       "    <tr>\n",
       "      <th>1820</th>\n",
       "      <td>ڈیٹا سائنس</td>\n",
       "      <td>2019</td>\n",
       "    </tr>\n",
       "    <tr>\n",
       "      <th>1</th>\n",
       "      <td>(C++)</td>\n",
       "      <td>1982</td>\n",
       "    </tr>\n",
       "  </tbody>\n",
       "</table>\n",
       "</div>"
      ],
      "text/plain": [
       "                                   Book Name  count\n",
       "1161                      Python Programming   8519\n",
       "1691                  انٹرنیٹ سے پیسہ کمائیں   7577\n",
       "207                  Artificial Intelligence   6641\n",
       "337   Blockchain, Cryptocurrency And Bitcoin   6052\n",
       "1155                      Product Management   4965\n",
       "813                        Justju ka safar-1   4915\n",
       "1371                       Sukkur To Florida   2153\n",
       "1007                             Molo Masali   2137\n",
       "1820                              ڈیٹا سائنس   2019\n",
       "1                                      (C++)   1982"
      ]
     },
     "execution_count": 27,
     "metadata": {},
     "output_type": "execute_result"
    }
   ],
   "source": [
    "Top_10_books=Table.groupby(\"Book Name\")[\"Order Number\"].agg([\"count\"]).reset_index().sort_values(by=\"count\",ascending=False).head(10)\n",
    "Top_10_books"
   ]
  },
  {
   "cell_type": "code",
   "execution_count": 28,
   "id": "02b8613e",
   "metadata": {},
   "outputs": [
    {
     "name": "stderr",
     "output_type": "stream",
     "text": [
      "g:\\anaconda\\envs\\devnation\\lib\\site-packages\\matplotlib\\backends\\backend_agg.py:240: RuntimeWarning: Glyph 1746 missing from current font.\n",
      "  font.set_text(s, 0.0, flags=flags)\n",
      "g:\\anaconda\\envs\\devnation\\lib\\site-packages\\matplotlib\\backends\\backend_agg.py:240: RuntimeWarning: Glyph 1729 missing from current font.\n",
      "  font.set_text(s, 0.0, flags=flags)\n",
      "g:\\anaconda\\envs\\devnation\\lib\\site-packages\\matplotlib\\backends\\backend_agg.py:203: RuntimeWarning: Glyph 1746 missing from current font.\n",
      "  font.set_text(s, 0, flags=flags)\n",
      "g:\\anaconda\\envs\\devnation\\lib\\site-packages\\matplotlib\\backends\\backend_agg.py:203: RuntimeWarning: Glyph 1729 missing from current font.\n",
      "  font.set_text(s, 0, flags=flags)\n"
     ]
    },
    {
     "data": {
      "image/png": "[encoded data removed]",
      "text/plain": [
       "<Figure size 720x360 with 1 Axes>"
      ]
     },
     "metadata": {
      "needs_background": "light"
     },
     "output_type": "display_data"
    }
   ],
   "source": [
    "import matplotlib.pyplot as plt\n",
    "import seaborn as sns\n",
    "plt.figure(figsize=(10,5))\n",
    "graph=sns.barplot(x='Book Name',y='count',data=Top_10_books)\n",
    "graph.set_title('Top 10 Selling Books')\n",
    "plt.xticks(rotation=90)\n",
    "plt.show()"
   ]
  },
  {
   "cell_type": "code",
   "execution_count": 29,
   "id": "136e48ff",
   "metadata": {},
   "outputs": [
    {
     "name": "stderr",
     "output_type": "stream",
     "text": [
      "g:\\anaconda\\envs\\devnation\\lib\\site-packages\\matplotlib\\backends\\backend_agg.py:240: RuntimeWarning: Glyph 1746 missing from current font.\n",
      "  font.set_text(s, 0.0, flags=flags)\n",
      "g:\\anaconda\\envs\\devnation\\lib\\site-packages\\matplotlib\\backends\\backend_agg.py:240: RuntimeWarning: Glyph 1729 missing from current font.\n",
      "  font.set_text(s, 0.0, flags=flags)\n",
      "g:\\anaconda\\envs\\devnation\\lib\\site-packages\\matplotlib\\backends\\backend_agg.py:203: RuntimeWarning: Glyph 1746 missing from current font.\n",
      "  font.set_text(s, 0, flags=flags)\n",
      "g:\\anaconda\\envs\\devnation\\lib\\site-packages\\matplotlib\\backends\\backend_agg.py:203: RuntimeWarning: Glyph 1729 missing from current font.\n",
      "  font.set_text(s, 0, flags=flags)\n"
     ]
    },
    {
     "data": {
      "image/png": "[encoded data removed]",
      "text/plain": [
       "<Figure size 720x360 with 1 Axes>"
      ]
     },
     "metadata": {
      "needs_background": "light"
     },
     "output_type": "display_data"
    }
   ],
   "source": [
    "plt.figure(figsize=(10,5))\n",
    "graph=sns.pointplot(x='Book Name',y='count',data=Top_10_books)\n",
    "graph.set_title('Top 10 Selling Books')\n",
    "plt.xticks(rotation=90)\n",
    "plt.show()\n",
    "# sns.pointplot(data=Top_10_books,orient=\"h\" ) \n"
   ]
  },
  {
   "cell_type": "code",
   "execution_count": 30,
   "id": "9582fb85",
   "metadata": {},
   "outputs": [
    {
     "data": {
      "text/html": [
       "<div>\n",
       "<style scoped>\n",
       "    .dataframe tbody tr th:only-of-type {\n",
       "        vertical-align: middle;\n",
       "    }\n",
       "\n",
       "    .dataframe tbody tr th {\n",
       "        vertical-align: top;\n",
       "    }\n",
       "\n",
       "    .dataframe thead th {\n",
       "        text-align: right;\n",
       "    }\n",
       "</style>\n",
       "<table border=\"1\" class=\"dataframe\">\n",
       "  <thead>\n",
       "    <tr style=\"text-align: right;\">\n",
       "      <th></th>\n",
       "      <th>Book Name</th>\n",
       "      <th>count</th>\n",
       "    </tr>\n",
       "  </thead>\n",
       "  <tbody>\n",
       "    <tr>\n",
       "      <th>1733</th>\n",
       "      <td>توبۃ النصوح</td>\n",
       "      <td>2</td>\n",
       "    </tr>\n",
       "    <tr>\n",
       "      <th>1734</th>\n",
       "      <td>جدید تقریریں اور منتخب ایوارڈ یافتہ تقریریں</td>\n",
       "      <td>2</td>\n",
       "    </tr>\n",
       "    <tr>\n",
       "      <th>1736</th>\n",
       "      <td>جنت کے پتے یکجا بڑی</td>\n",
       "      <td>2</td>\n",
       "    </tr>\n",
       "    <tr>\n",
       "      <th>1737</th>\n",
       "      <td>جنسی مسائل اپنا علاج خود کیجئے</td>\n",
       "      <td>2</td>\n",
       "    </tr>\n",
       "    <tr>\n",
       "      <th>1741</th>\n",
       "      <td>حاتم طائی کی کہانیاں</td>\n",
       "      <td>2</td>\n",
       "    </tr>\n",
       "    <tr>\n",
       "      <th>0</th>\n",
       "      <td>'Arry and Bert</td>\n",
       "      <td>2</td>\n",
       "    </tr>\n",
       "    <tr>\n",
       "      <th>673</th>\n",
       "      <td>Hazir Ghayab</td>\n",
       "      <td>1</td>\n",
       "    </tr>\n",
       "    <tr>\n",
       "      <th>938</th>\n",
       "      <td>Madaam Curie</td>\n",
       "      <td>1</td>\n",
       "    </tr>\n",
       "    <tr>\n",
       "      <th>783</th>\n",
       "      <td>JAVA</td>\n",
       "      <td>1</td>\n",
       "    </tr>\n",
       "    <tr>\n",
       "      <th>1186</th>\n",
       "      <td>RIYAD AL-SALIHEEN (ARABIC)</td>\n",
       "      <td>1</td>\n",
       "    </tr>\n",
       "  </tbody>\n",
       "</table>\n",
       "</div>"
      ],
      "text/plain": [
       "                                        Book Name  count\n",
       "1733                                  توبۃ النصوح      2\n",
       "1734  جدید تقریریں اور منتخب ایوارڈ یافتہ تقریریں      2\n",
       "1736                          جنت کے پتے یکجا بڑی      2\n",
       "1737               جنسی مسائل اپنا علاج خود کیجئے      2\n",
       "1741                         حاتم طائی کی کہانیاں      2\n",
       "0                                  'Arry and Bert      2\n",
       "673                                 Hazir Ghayab       1\n",
       "938                                  Madaam Curie      1\n",
       "783                                        JAVA        1\n",
       "1186                  RIYAD AL-SALIHEEN (ARABIC)       1"
      ]
     },
     "execution_count": 30,
     "metadata": {},
     "output_type": "execute_result"
    }
   ],
   "source": [
    "Least_10_books=Table.groupby(\"Book Name\")[\"Order Number\"].agg([\"count\"]).reset_index().sort_values(by=\"count\",ascending=False).tail(10)\n",
    "Least_10_books"
   ]
  },
  {
   "cell_type": "code",
   "execution_count": 31,
   "id": "531dadd5",
   "metadata": {},
   "outputs": [
    {
     "name": "stderr",
     "output_type": "stream",
     "text": [
      "g:\\anaconda\\envs\\devnation\\lib\\site-packages\\matplotlib\\backends\\backend_agg.py:240: RuntimeWarning: Glyph 1731 missing from current font.\n",
      "  font.set_text(s, 0.0, flags=flags)\n",
      "g:\\anaconda\\envs\\devnation\\lib\\site-packages\\matplotlib\\backends\\backend_agg.py:240: RuntimeWarning: Glyph 1729 missing from current font.\n",
      "  font.set_text(s, 0.0, flags=flags)\n",
      "g:\\anaconda\\envs\\devnation\\lib\\site-packages\\matplotlib\\backends\\backend_agg.py:240: RuntimeWarning: Glyph 1746 missing from current font.\n",
      "  font.set_text(s, 0.0, flags=flags)\n",
      "g:\\anaconda\\envs\\devnation\\lib\\site-packages\\matplotlib\\backends\\backend_agg.py:203: RuntimeWarning: Glyph 1731 missing from current font.\n",
      "  font.set_text(s, 0, flags=flags)\n",
      "g:\\anaconda\\envs\\devnation\\lib\\site-packages\\matplotlib\\backends\\backend_agg.py:203: RuntimeWarning: Glyph 1729 missing from current font.\n",
      "  font.set_text(s, 0, flags=flags)\n",
      "g:\\anaconda\\envs\\devnation\\lib\\site-packages\\matplotlib\\backends\\backend_agg.py:203: RuntimeWarning: Glyph 1746 missing from current font.\n",
      "  font.set_text(s, 0, flags=flags)\n"
     ]
    },
    {
     "data": {
      "image/png": "[encoded data removed]",
      "text/plain": [
       "<Figure size 1080x360 with 1 Axes>"
      ]
     },
     "metadata": {
      "needs_background": "light"
     },
     "output_type": "display_data"
    }
   ],
   "source": [
    "plt.figure(figsize=(15,5))\n",
    "graph=sns.barplot(x='Book Name',y='count',data=Least_10_books)\n",
    "graph.set_title('Top 10 Least Book Sold Out')\n",
    "plt.xticks(rotation=90)\n",
    "plt.show()"
   ]
  },
  {
   "cell_type": "code",
   "execution_count": 32,
   "id": "919e1e79",
   "metadata": {},
   "outputs": [
    {
     "name": "stderr",
     "output_type": "stream",
     "text": [
      "g:\\anaconda\\envs\\devnation\\lib\\site-packages\\matplotlib\\backends\\backend_agg.py:240: RuntimeWarning: Glyph 1731 missing from current font.\n",
      "  font.set_text(s, 0.0, flags=flags)\n",
      "g:\\anaconda\\envs\\devnation\\lib\\site-packages\\matplotlib\\backends\\backend_agg.py:240: RuntimeWarning: Glyph 1729 missing from current font.\n",
      "  font.set_text(s, 0.0, flags=flags)\n",
      "g:\\anaconda\\envs\\devnation\\lib\\site-packages\\matplotlib\\backends\\backend_agg.py:240: RuntimeWarning: Glyph 1746 missing from current font.\n",
      "  font.set_text(s, 0.0, flags=flags)\n",
      "g:\\anaconda\\envs\\devnation\\lib\\site-packages\\matplotlib\\backends\\backend_agg.py:203: RuntimeWarning: Glyph 1731 missing from current font.\n",
      "  font.set_text(s, 0, flags=flags)\n",
      "g:\\anaconda\\envs\\devnation\\lib\\site-packages\\matplotlib\\backends\\backend_agg.py:203: RuntimeWarning: Glyph 1729 missing from current font.\n",
      "  font.set_text(s, 0, flags=flags)\n",
      "g:\\anaconda\\envs\\devnation\\lib\\site-packages\\matplotlib\\backends\\backend_agg.py:203: RuntimeWarning: Glyph 1746 missing from current font.\n",
      "  font.set_text(s, 0, flags=flags)\n"
     ]
    },
    {
     "data": {
      "image/png": "[encoded data removed]",
      "text/plain": [
       "<Figure size 1080x360 with 1 Axes>"
      ]
     },
     "metadata": {
      "needs_background": "light"
     },
     "output_type": "display_data"
    }
   ],
   "source": [
    "plt.figure(figsize=(15,5))\n",
    "graph=sns.countplot(x='Book Name',data=Least_10_books,palette=\"Greens_d\")\n",
    "graph.set_title('Top 10 Least Book Sold Out')\n",
    "plt.xticks(rotation=90)\n",
    "plt.show()"
   ]
  },
  {
   "cell_type": "code",
   "execution_count": 33,
   "id": "b2ac9e77",
   "metadata": {},
   "outputs": [
    {
     "data": {
      "text/html": [
       "<div>\n",
       "<style scoped>\n",
       "    .dataframe tbody tr th:only-of-type {\n",
       "        vertical-align: middle;\n",
       "    }\n",
       "\n",
       "    .dataframe tbody tr th {\n",
       "        vertical-align: top;\n",
       "    }\n",
       "\n",
       "    .dataframe thead th {\n",
       "        text-align: right;\n",
       "    }\n",
       "</style>\n",
       "<table border=\"1\" class=\"dataframe\">\n",
       "  <thead>\n",
       "    <tr style=\"text-align: right;\">\n",
       "      <th></th>\n",
       "      <th>City</th>\n",
       "      <th>count</th>\n",
       "    </tr>\n",
       "  </thead>\n",
       "  <tbody>\n",
       "    <tr>\n",
       "      <th>1480</th>\n",
       "      <td>Karachi</td>\n",
       "      <td>15596</td>\n",
       "    </tr>\n",
       "    <tr>\n",
       "      <th>1784</th>\n",
       "      <td>Lahore</td>\n",
       "      <td>12052</td>\n",
       "    </tr>\n",
       "    <tr>\n",
       "      <th>1235</th>\n",
       "      <td>Islamabad</td>\n",
       "      <td>6940</td>\n",
       "    </tr>\n",
       "    <tr>\n",
       "      <th>2723</th>\n",
       "      <td>Rawalpindi</td>\n",
       "      <td>3551</td>\n",
       "    </tr>\n",
       "    <tr>\n",
       "      <th>814</th>\n",
       "      <td>Faisalabad</td>\n",
       "      <td>2489</td>\n",
       "    </tr>\n",
       "    <tr>\n",
       "      <th>2200</th>\n",
       "      <td>Multan</td>\n",
       "      <td>2227</td>\n",
       "    </tr>\n",
       "    <tr>\n",
       "      <th>2505</th>\n",
       "      <td>Peshawar</td>\n",
       "      <td>2045</td>\n",
       "    </tr>\n",
       "    <tr>\n",
       "      <th>1001</th>\n",
       "      <td>Gujranwala</td>\n",
       "      <td>1385</td>\n",
       "    </tr>\n",
       "    <tr>\n",
       "      <th>1200</th>\n",
       "      <td>Hyderabad</td>\n",
       "      <td>1167</td>\n",
       "    </tr>\n",
       "    <tr>\n",
       "      <th>3069</th>\n",
       "      <td>Sialkot</td>\n",
       "      <td>1092</td>\n",
       "    </tr>\n",
       "  </tbody>\n",
       "</table>\n",
       "</div>"
      ],
      "text/plain": [
       "            City  count\n",
       "1480     Karachi  15596\n",
       "1784      Lahore  12052\n",
       "1235   Islamabad   6940\n",
       "2723  Rawalpindi   3551\n",
       "814   Faisalabad   2489\n",
       "2200      Multan   2227\n",
       "2505    Peshawar   2045\n",
       "1001  Gujranwala   1385\n",
       "1200   Hyderabad   1167\n",
       "3069     Sialkot   1092"
      ]
     },
     "execution_count": 33,
     "metadata": {},
     "output_type": "execute_result"
    }
   ],
   "source": [
    "Top_10_city=Table.groupby(\"City\")[\"Order Number\"].agg([\"count\"]).reset_index().sort_values(by=\"count\",ascending=False).head(10)\n",
    "Top_10_city"
   ]
  },
  {
   "cell_type": "code",
   "execution_count": 34,
   "id": "933fea1d",
   "metadata": {},
   "outputs": [
    {
     "data": {
      "image/png": "[encoded data removed]",
      "text/plain": [
       "<Figure size 864x360 with 1 Axes>"
      ]
     },
     "metadata": {
      "needs_background": "light"
     },
     "output_type": "display_data"
    }
   ],
   "source": [
    "plt.figure(figsize=(12,5))\n",
    "graph=sns.barplot(x=\"City\",y=\"count\",data=Top_10_city)\n",
    "graph.set_title(\"Top 10 Cities In whcih Book Sold Out\")\n",
    "plt.xticks(rotation=90)\n",
    "plt.show()"
   ]
  },
  {
   "cell_type": "code",
   "execution_count": 35,
   "id": "d31a6e79",
   "metadata": {},
   "outputs": [
    {
     "data": {
      "image/png": "[encoded data removed]",
      "text/plain": [
       "<Figure size 864x360 with 1 Axes>"
      ]
     },
     "metadata": {
      "needs_background": "light"
     },
     "output_type": "display_data"
    }
   ],
   "source": [
    "plt.figure(figsize=(12,5))\n",
    "graph=sns.swarmplot(x=\"City\",y=\"count\",data =Top_10_city)\n",
    "graph.set_title(\"Top 10 Cities In whcih Book Sold Out\")\n",
    "plt.xticks(rotation=90)\n",
    "plt.show()\n"
   ]
  },
  {
   "cell_type": "code",
   "execution_count": 36,
   "id": "d7f445b4",
   "metadata": {},
   "outputs": [
    {
     "name": "stdout",
     "output_type": "stream",
     "text": [
      "  Order Status  count\n",
      "0    Cancelled    391\n",
      "1    Completed  98027\n",
      "2     Returned   7022\n"
     ]
    }
   ],
   "source": [
    "Change={\"Canceled\":\"Cancelled\"}\n",
    "Table[\"Order Status\"]=Table[\"Order Status\"].replace(Change)\n",
    "orderstatus=Table.groupby('Order Status')['Order Number'].agg(['count']).reset_index()\n",
    "print(orderstatus)"
   ]
  },
  {
   "cell_type": "code",
   "execution_count": 37,
   "id": "559a2d03",
   "metadata": {},
   "outputs": [
    {
     "data": {
      "image/png": "[encoded data removed]",
      "text/plain": [
       "<Figure size 432x288 with 1 Axes>"
      ]
     },
     "metadata": {
      "needs_background": "light"
     },
     "output_type": "display_data"
    }
   ],
   "source": [
    "graph=sns.barplot(x=\"Order Status\",y=\"count\",data=orderstatus)\n",
    "graph.set_title(\"Order Status\")\n",
    "plt.show()"
   ]
  },
  {
   "cell_type": "code",
   "execution_count": 38,
   "id": "2023e1c8",
   "metadata": {},
   "outputs": [
    {
     "data": {
      "image/png": "[encoded data removed]",
      "text/plain": [
       "<Figure size 432x288 with 1 Axes>"
      ]
     },
     "metadata": {
      "needs_background": "light"
     },
     "output_type": "display_data"
    }
   ],
   "source": [
    "graph=sns.pointplot(x=\"Order Status\",y=\"count\",data=orderstatus)\n",
    "graph.set_title(\"Order Status\")\n",
    "plt.show()"
   ]
  },
  {
   "cell_type": "code",
   "execution_count": 39,
   "id": "d30131cf",
   "metadata": {},
   "outputs": [
    {
     "name": "stdout",
     "output_type": "stream",
     "text": [
      "     Payment Method  count\n",
      "0      BankTransfer   1543\n",
      "1  Cash on delivery  31546\n",
      "2         EasyPaisa   1356\n",
      "3          JazzCash    989\n"
     ]
    }
   ],
   "source": [
    "Changepay={\"Cash on Delivery (COD)\":\"Cash on delivery\"}\n",
    "Table['Payment Method']=Table['Payment Method'].replace(Changepay)\n",
    "paymethod=Table.groupby('Payment Method')['Order Number'].agg(['count']).reset_index()\n",
    "print(paymethod)"
   ]
  },
  {
   "cell_type": "code",
   "execution_count": 40,
   "id": "11043a92",
   "metadata": {},
   "outputs": [
    {
     "data": {
      "image/png": "[encoded data removed]",
      "text/plain": [
       "<Figure size 720x360 with 1 Axes>"
      ]
     },
     "metadata": {
      "needs_background": "light"
     },
     "output_type": "display_data"
    }
   ],
   "source": [
    "plt.figure(figsize=(10,5))\n",
    "graph=sns.barplot(x=\"Payment Method\",y=\"count\",data=paymethod)\n",
    "graph.set_title(\"Payment Method\")\n",
    "plt.show()"
   ]
  },
  {
   "cell_type": "code",
   "execution_count": 41,
   "id": "da44b536",
   "metadata": {},
   "outputs": [
    {
     "data": {
      "image/png": "[encoded data removed]",
      "text/plain": [
       "<Figure size 720x360 with 1 Axes>"
      ]
     },
     "metadata": {
      "needs_background": "light"
     },
     "output_type": "display_data"
    }
   ],
   "source": [
    "plt.figure(figsize=(10,5))\n",
    "graph=sns.pointplot(x=\"Payment Method\",y=\"count\",data=paymethod)\n",
    "graph.set_title(\"Payment Method\")\n",
    "plt.show()"
   ]
  },
  {
   "cell_type": "code",
   "execution_count": 42,
   "id": "00dbbd2e",
   "metadata": {},
   "outputs": [
    {
     "data": {
      "image/png": "[encoded data removed]",
      "text/plain": [
       "<Figure size 720x360 with 1 Axes>"
      ]
     },
     "metadata": {
      "needs_background": "light"
     },
     "output_type": "display_data"
    }
   ],
   "source": [
    "plt.figure(figsize=(10,5))\n",
    "graph=sns.barplot(x=\"Payment Method\",y=\"count\",data=paymethod)\n",
    "graph.set_title(\"Payment Method\")\n",
    "plt.show()"
   ]
  },
  {
   "cell_type": "code",
   "execution_count": 43,
   "id": "da18ca88",
   "metadata": {},
   "outputs": [],
   "source": [
    "# explode = (0.05, 0.3, 0.6, 0)\n",
    "# fig1, ax1 = plt.subplots(figsize=(15,7))\n",
    "# ax1.pie(paymethod.values, autopct='%1.1f%%', radius=1.2, startangle=45, explode=explode,pctdistance=0.5)\n",
    "# ax1.axis('equal')\n",
    "# plt.title(\"Mode of Payment\")\n",
    "# plt.legend(paymethod.index, title=\"Payment Method\",loc=\"center right\")\n",
    "# plt.show\n",
    "\n",
    "# plt.pie(paymethod , autopct='%.0f%%')\n",
    "# plt.show()"
   ]
  },
  {
   "cell_type": "code",
   "execution_count": 44,
   "id": "d5b7ab89",
   "metadata": {},
   "outputs": [
    {
     "name": "stdout",
     "output_type": "stream",
     "text": [
      "     Year  count\n",
      "1  2020.0  53996\n",
      "2  2021.0  15060\n",
      "0  2019.0    930\n"
     ]
    }
   ],
   "source": [
    "Table['Order Date']=pd.to_datetime(Table['Order Date'])\n",
    "Table['Year']=Table['Order Date'].dt.year\n",
    "Orderreceive=Table.groupby(\"Year\")['Order Number'].agg(['count']).reset_index().sort_values(by='count',ascending=False)\n",
    "print(Orderreceive)"
   ]
  },
  {
   "cell_type": "code",
   "execution_count": 45,
   "id": "2a1c6751",
   "metadata": {},
   "outputs": [
    {
     "data": {
      "image/png": "[encoded data removed]",
      "text/plain": [
       "<Figure size 432x288 with 1 Axes>"
      ]
     },
     "metadata": {
      "needs_background": "light"
     },
     "output_type": "display_data"
    }
   ],
   "source": [
    "graph=sns.barplot(x='Year',y='count',data=Orderreceive,hue=\"Year\")\n",
    "graph.set_title(\"Most Orders in a Year\")\n",
    "plt.show()"
   ]
  },
  {
   "cell_type": "code",
   "execution_count": 50,
   "id": "59c0e4d9",
   "metadata": {},
   "outputs": [],
   "source": [
    "x= ['53996','15060','930']\n",
    "y=['2020','2021','2019']\n"
   ]
  },
  {
   "cell_type": "code",
   "execution_count": 51,
   "id": "45f8a36d",
   "metadata": {},
   "outputs": [
    {
     "data": {
      "text/plain": [
       "([<matplotlib.patches.Wedge at 0x2322f84d8c8>,\n",
       "  <matplotlib.patches.Wedge at 0x2322f85a348>,\n",
       "  <matplotlib.patches.Wedge at 0x2322f85ad08>],\n",
       " [Text(-0.8285995049796498, 0.7234796889667874, '2020'),\n",
       "  Text(0.7976835121469377, -0.7574305344049226, '2021'),\n",
       "  Text(1.0990416109730554, -0.0459079225161771, '2019')])"
      ]
     },
     "execution_count": 51,
     "metadata": {},
     "output_type": "execute_result"
    },
    {
     "data": {
      "image/png": "[encoded data removed]",
      "text/plain": [
       "<Figure size 432x288 with 1 Axes>"
      ]
     },
     "metadata": {},
     "output_type": "display_data"
    }
   ],
   "source": [
    "plt.axis(\"equal\")\n",
    "plt.pie(x,labels=y)"
   ]
  },
  {
   "cell_type": "code",
   "execution_count": 46,
   "id": "b72b9cb0",
   "metadata": {},
   "outputs": [
    {
     "data": {
      "image/png": "[encoded data removed]",
      "text/plain": [
       "<Figure size 1296x360 with 1 Axes>"
      ]
     },
     "metadata": {
      "needs_background": "light"
     },
     "output_type": "display_data"
    }
   ],
   "source": [
    "plt.figure(figsize=(18,5))\n",
    "sns.set_style(\"whitegrid\")\n",
    "graph=sns.histplot(x='Year',y='count',data=Orderreceive,hue=\"Year\")\n",
    "graph.set_title(\"Most Orders in a Year\")\n",
    "plt.show()"
   ]
  },
  {
   "cell_type": "code",
   "execution_count": 47,
   "id": "10c8def2",
   "metadata": {},
   "outputs": [
    {
     "name": "stdout",
     "output_type": "stream",
     "text": [
      "                         City  count\n",
      "206                   Karachi    975\n",
      "174                 Islamabad    738\n",
      "245                    Lahore    549\n",
      "377                Rawalpindi    243\n",
      "225                   Kharain    227\n",
      "350                  Peshawar    179\n",
      "170                 Hyderabad    121\n",
      "407  Seem Afzalpur mirpur ajk    116\n",
      "309                    Multan    106\n",
      "367                    Quetta     87\n"
     ]
    }
   ],
   "source": [
    "returnorder=Table[Table['Order Status']=='Returned']\n",
    "ReturnOrder=returnorder.groupby('City')['Order Number'].agg(['count']).reset_index().sort_values(by='count',ascending=False).head(10)\n",
    "print(ReturnOrder)"
   ]
  },
  {
   "cell_type": "code",
   "execution_count": null,
   "id": "c1c7e7ef",
   "metadata": {},
   "outputs": [],
   "source": []
  },
  {
   "cell_type": "code",
   "execution_count": 48,
   "id": "813490a0",
   "metadata": {},
   "outputs": [
    {
     "data": {
      "image/png": "[encoded data removed]",
      "text/plain": [
       "<Figure size 1296x360 with 1 Axes>"
      ]
     },
     "metadata": {},
     "output_type": "display_data"
    }
   ],
   "source": [
    "plt.figure(figsize=(18,5))\n",
    "graph=sns.barplot(x='City',y='count',data=ReturnOrder)\n",
    "graph.set_title('Top 10 Cities Which Returned Order ')\n",
    "plt.show()"
   ]
  },
  {
   "cell_type": "code",
   "execution_count": 49,
   "id": "15473562",
   "metadata": {},
   "outputs": [
    {
     "data": {
      "image/png": "[encoded data removed]",
      "text/plain": [
       "<Figure size 1296x360 with 1 Axes>"
      ]
     },
     "metadata": {},
     "output_type": "display_data"
    }
   ],
   "source": [
    "plt.figure(figsize=(18,5))\n",
    "graph=sns.lineplot(x='City',y='count',data=ReturnOrder)\n",
    "graph.set_title('Top 10 Cities Which Returned Order ')\n",
    " \n",
    "plt.show()"
   ]
  },
  {
   "cell_type": "code",
   "execution_count": null,
   "id": "7141b1f4",
   "metadata": {},
   "outputs": [],
   "source": []
  }
 ],
 "metadata": {
  "kernelspec": {
   "display_name": "Python 3 (ipykernel)",
   "language": "python",
   "name": "python3"
  },
  "language_info": {
   "codemirror_mode": {
    "name": "ipython",
    "version": 3
   },
   "file_extension": ".py",
   "mimetype": "text/x-python",
   "name": "python",
   "nbconvert_exporter": "python",
   "pygments_lexer": "ipython3",
   "version": "3.7.10"
  }
 },
 "nbformat": 4,
 "nbformat_minor": 5
}
